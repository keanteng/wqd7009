{
 "cells": [
  {
   "cell_type": "code",
   "execution_count": 1,
   "metadata": {},
   "outputs": [],
   "source": [
    "# load libraries\n",
    "import pandas as pd"
   ]
  },
  {
   "cell_type": "code",
   "execution_count": 3,
   "metadata": {},
   "outputs": [
    {
     "data": {
      "text/plain": [
       "conditions\n",
       "Partially cloudy              392\n",
       "Rain Partially cloudy         136\n",
       "Clear                          90\n",
       "Rain Overcast                  65\n",
       "Snow Rain Partially cloudy     18\n",
       "Overcast                       11\n",
       "Snow Partially cloudy          10\n",
       "Snow Rain Overcast              5\n",
       "Rain                            2\n",
       "Snow                            1\n",
       "Snow Rain                       1\n",
       "Name: count, dtype: int64"
      ]
     },
     "execution_count": 3,
     "metadata": {},
     "output_type": "execute_result"
    }
   ],
   "source": [
    "data = pd.read_csv('data/temp/seoul_1994_1996.csv')\n",
    "data.head(n = 1)\n",
    "\n",
    "# remove comma in conditions column\n",
    "data['conditions'] = data['conditions'].str.replace(',', '')\n",
    "\n",
    "# check the categories in conditions column\n",
    "data['conditions'].value_counts()"
   ]
  },
  {
   "cell_type": "code",
   "execution_count": 4,
   "metadata": {},
   "outputs": [
    {
     "name": "stdout",
     "output_type": "stream",
     "text": [
      "(731000, 10)\n",
      "55.770999908447266 MB\n"
     ]
    }
   ],
   "source": [
    "# enlarge the data by duplicating the data\n",
    "data = pd.concat([data]*1000, ignore_index=True)\n",
    "\n",
    "# check the number of rows\n",
    "print(data.shape)\n",
    "\n",
    "# check the memory usage for the DataFrame in MB\n",
    "print(data.memory_usage().sum() / 1024**2, 'MB')"
   ]
  },
  {
   "cell_type": "code",
   "execution_count": 5,
   "metadata": {},
   "outputs": [],
   "source": [
    "# save the data to aa new csv file at data/enlarge\n",
    "data.to_csv('data/enlarge/data_large.csv', index=False)"
   ]
  },
  {
   "cell_type": "markdown",
   "metadata": {},
   "source": [
    "# Remove Header\n",
    "\n",
    "Tips of working on data enlargement\n",
    "```bash\n",
    "# to remove folder content\n",
    "rm -rf  data/temp/*.csv\n",
    "\n",
    "# to test\n",
    "mkdir test\n",
    "cd test\n",
    "cat >> abc.txt\n",
    "\n",
    "# to remove the folder itself\n",
    "rm -rf test\n",
    "\n",
    "# to clone directory\n",
    "cp -r notes notes_2\n",
    "```"
   ]
  },
  {
   "cell_type": "markdown",
   "metadata": {},
   "source": [
    "1.  15 * 0.048 MB = 0.72MB\n",
    "2.  15 * 55 MB = 825 MB\n",
    "3.  200 * 55 MB = 10.74 GB\n",
    "4.  400 * 55 MB = 21.48 GB\n",
    "\n",
    "\n",
    "File duplication will be done using unix"
   ]
  }
 ],
 "metadata": {
  "kernelspec": {
   "display_name": "Python 3",
   "language": "python",
   "name": "python3"
  },
  "language_info": {
   "codemirror_mode": {
    "name": "ipython",
    "version": 3
   },
   "file_extension": ".py",
   "mimetype": "text/x-python",
   "name": "python",
   "nbconvert_exporter": "python",
   "pygments_lexer": "ipython3",
   "version": "3.11.4"
  }
 },
 "nbformat": 4,
 "nbformat_minor": 2
}
