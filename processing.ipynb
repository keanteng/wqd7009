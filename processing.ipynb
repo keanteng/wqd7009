{
 "cells": [
  {
   "cell_type": "markdown",
   "metadata": {},
   "source": [
    "# Check to see which column to be removed"
   ]
  },
  {
   "cell_type": "code",
   "execution_count": 1,
   "metadata": {},
   "outputs": [
    {
     "name": "stdout",
     "output_type": "stream",
     "text": [
      "name                                                            seoul\n",
      "datetime                                                   1994-01-01\n",
      "tempmax                                                          35.2\n",
      "tempmin                                                          16.4\n",
      "temp                                                             26.3\n",
      "feelslikemax                                                     33.4\n",
      "feelslikemin                                                     13.0\n",
      "feelslike                                                        24.3\n",
      "dew                                                              15.5\n",
      "humidity                                                         65.9\n",
      "precip                                                            0.0\n",
      "precipprob                                                          0\n",
      "precipcover                                                       0.0\n",
      "preciptype                                                        NaN\n",
      "snow                                                              NaN\n",
      "snowdepth                                                         NaN\n",
      "windgust                                                          NaN\n",
      "windspeed                                                         5.5\n",
      "winddir                                                         115.4\n",
      "sealevelpressure                                               1025.4\n",
      "cloudcover                                                       63.0\n",
      "visibility                                                        6.6\n",
      "solarradiation                                                    NaN\n",
      "solarenergy                                                       NaN\n",
      "uvindex                                                           NaN\n",
      "severerisk                                                        NaN\n",
      "sunrise                                           1994-01-01T07:46:54\n",
      "sunset                                            1994-01-01T17:23:56\n",
      "moonphase                                                        0.61\n",
      "conditions                                           Partially cloudy\n",
      "description                         Partly cloudy throughout the day.\n",
      "icon                                                partly-cloudy-day\n",
      "stations            47111099999,47112099999,47120099999,4711009999...\n",
      "Name: 0, dtype: object\n"
     ]
    }
   ],
   "source": [
    "import pandas as pd \n",
    "\n",
    "data = pd.read_csv('data/ori/seoul_1994_1996.csv')\n",
    "\n",
    "# show one row and all columns\n",
    "print(data.iloc[0, :])"
   ]
  },
  {
   "cell_type": "code",
   "execution_count": 2,
   "metadata": {},
   "outputs": [
    {
     "name": "stdout",
     "output_type": "stream",
     "text": [
      "Index(['name', 'datetime', 'tempmax', 'tempmin', 'temp', 'feelslikemax',\n",
      "       'feelslikemin', 'feelslike', 'dew', 'humidity', 'precip', 'precipprob',\n",
      "       'precipcover', 'preciptype', 'snow', 'snowdepth', 'windgust',\n",
      "       'windspeed', 'winddir', 'sealevelpressure', 'cloudcover', 'visibility',\n",
      "       'solarradiation', 'solarenergy', 'uvindex', 'severerisk', 'sunrise',\n",
      "       'sunset', 'moonphase', 'conditions', 'description', 'icon', 'stations'],\n",
      "      dtype='object')\n"
     ]
    }
   ],
   "source": [
    "# print all the columns\n",
    "print(data.columns)"
   ]
  },
  {
   "cell_type": "code",
   "execution_count": 3,
   "metadata": {},
   "outputs": [
    {
     "name": "stdout",
     "output_type": "stream",
     "text": [
      "conditions\n",
      "Partially cloudy                392\n",
      "Rain, Partially cloudy          136\n",
      "Clear                            90\n",
      "Rain, Overcast                   65\n",
      "Snow, Rain, Partially cloudy     18\n",
      "Overcast                         11\n",
      "Snow, Partially cloudy           10\n",
      "Snow, Rain, Overcast              5\n",
      "Rain                              2\n",
      "Snow                              1\n",
      "Snow, Rain                        1\n",
      "Name: count, dtype: int64\n"
     ]
    }
   ],
   "source": [
    "# check the category for conditions\n",
    "print(data['conditions'].value_counts())"
   ]
  },
  {
   "cell_type": "code",
   "execution_count": 4,
   "metadata": {},
   "outputs": [
    {
     "name": "stdout",
     "output_type": "stream",
     "text": [
      "conditions\n",
      "Partially cloudy              392\n",
      "Rain Partially cloudy         136\n",
      "Clear                          90\n",
      "Rain Overcast                  65\n",
      "Snow Rain Partially cloudy     18\n",
      "Overcast                       11\n",
      "Snow Partially cloudy          10\n",
      "Snow Rain Overcast              5\n",
      "Rain                            2\n",
      "Snow                            1\n",
      "Snow Rain                       1\n",
      "Name: count, dtype: int64\n"
     ]
    }
   ],
   "source": [
    "# remove comma in the conditions column\n",
    "data['conditions'] = data['conditions'].str.replace(',', '')\n",
    "\n",
    "# check the category for conditions\n",
    "print(data['conditions'].value_counts())"
   ]
  },
  {
   "cell_type": "code",
   "execution_count": 5,
   "metadata": {},
   "outputs": [
    {
     "data": {
      "text/html": [
       "<div>\n",
       "<style scoped>\n",
       "    .dataframe tbody tr th:only-of-type {\n",
       "        vertical-align: middle;\n",
       "    }\n",
       "\n",
       "    .dataframe tbody tr th {\n",
       "        vertical-align: top;\n",
       "    }\n",
       "\n",
       "    .dataframe thead th {\n",
       "        text-align: right;\n",
       "    }\n",
       "</style>\n",
       "<table border=\"1\" class=\"dataframe\">\n",
       "  <thead>\n",
       "    <tr style=\"text-align: right;\">\n",
       "      <th></th>\n",
       "      <th>datetime</th>\n",
       "      <th>tempmax</th>\n",
       "      <th>tempmin</th>\n",
       "      <th>temp</th>\n",
       "      <th>dew</th>\n",
       "      <th>humidity</th>\n",
       "      <th>precip</th>\n",
       "      <th>windspeed</th>\n",
       "      <th>visibility</th>\n",
       "      <th>conditions</th>\n",
       "    </tr>\n",
       "  </thead>\n",
       "  <tbody>\n",
       "    <tr>\n",
       "      <th>0</th>\n",
       "      <td>1994-01-01</td>\n",
       "      <td>35.2</td>\n",
       "      <td>16.4</td>\n",
       "      <td>26.3</td>\n",
       "      <td>15.5</td>\n",
       "      <td>65.9</td>\n",
       "      <td>0.0</td>\n",
       "      <td>5.5</td>\n",
       "      <td>6.6</td>\n",
       "      <td>Partially cloudy</td>\n",
       "    </tr>\n",
       "  </tbody>\n",
       "</table>\n",
       "</div>"
      ],
      "text/plain": [
       "     datetime  tempmax  tempmin  temp   dew  humidity  precip  windspeed  \\\n",
       "0  1994-01-01     35.2     16.4  26.3  15.5      65.9     0.0        5.5   \n",
       "\n",
       "   visibility        conditions  \n",
       "0         6.6  Partially cloudy  "
      ]
     },
     "execution_count": 5,
     "metadata": {},
     "output_type": "execute_result"
    }
   ],
   "source": [
    "# select datetime, temp, dew, humidity\n",
    "data = data[['datetime', 'tempmax', 'tempmin', 'temp', 'dew', 'humidity', 'precip', 'windspeed', 'visibility', 'conditions']]\n",
    "data.head(n=1)"
   ]
  },
  {
   "cell_type": "code",
   "execution_count": 6,
   "metadata": {},
   "outputs": [
    {
     "name": "stdout",
     "output_type": "stream",
     "text": [
      "Data updated in /data/temp folder\n"
     ]
    }
   ],
   "source": [
    "# for all the files in the ori folder\n",
    "# read the file and select datetime, temp, dew, humidity\n",
    "# save the data to a new file in the new folder called temp\n",
    "# when save remove the header\n",
    "\n",
    "import os\n",
    "import glob\n",
    "\n",
    "files = glob.glob('data/ori/*.csv')\n",
    "for file in files:\n",
    "    data = pd.read_csv(file)\n",
    "    data = data[['datetime', 'tempmax', 'tempmin', 'temp', 'dew', 'humidity', 'precip', 'windspeed', 'visibility', 'conditions']]\n",
    "    # remove comma in the conditions column\n",
    "    data['conditions'] = data['conditions'].str.replace(',', '')\n",
    "    data.to_csv('data/temp/' + os.path.basename(file), index=False)\n",
    "print('Data updated in /data/temp folder')"
   ]
  },
  {
   "cell_type": "code",
   "execution_count": 7,
   "metadata": {},
   "outputs": [
    {
     "name": "stdout",
     "output_type": "stream",
     "text": [
      "Data updated in /data/forecast folder\n",
      "0.8372230529785156 MB\n"
     ]
    }
   ],
   "source": [
    "# for all the files in the ori folder\n",
    "# read the file and select datetime, temp, dew, humidity\n",
    "# save all the data as a single file in the new folder called forecast\n",
    "\n",
    "files = glob.glob('data/ori/*.csv')\n",
    "all_data = []\n",
    "\n",
    "for file in files:\n",
    "    data = pd.read_csv(file)\n",
    "    data = data[['datetime', 'tempmax', 'tempmin', 'temp', 'dew', 'humidity', 'precip', 'windspeed', 'visibility', 'conditions']]\n",
    "    # remove comma in the conditions column\n",
    "    data['conditions'] = data['conditions'].str.replace(',', '')\n",
    "    all_data.append(data)\n",
    "\n",
    "# Concatenate all dataframes in the list\n",
    "all_data = pd.concat(all_data, ignore_index=True)\n",
    "all_data.to_csv('data/forecast/all.csv', index=False)\n",
    "print('Data updated in /data/forecast folder')\n",
    "\n",
    "# print the memory usage of the data in MB\n",
    "print(all_data.memory_usage().sum() / 1024**2, 'MB')"
   ]
  }
 ],
 "metadata": {
  "kernelspec": {
   "display_name": "Python 3",
   "language": "python",
   "name": "python3"
  },
  "language_info": {
   "codemirror_mode": {
    "name": "ipython",
    "version": 3
   },
   "file_extension": ".py",
   "mimetype": "text/x-python",
   "name": "python",
   "nbconvert_exporter": "python",
   "pygments_lexer": "ipython3",
   "version": "3.11.4"
  }
 },
 "nbformat": 4,
 "nbformat_minor": 2
}
